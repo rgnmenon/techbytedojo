{
  "nbformat": 4,
  "nbformat_minor": 0,
  "metadata": {
    "colab": {
      "provenance": [],
      "mount_file_id": "1U1dy7938IdR2k8STcnxxK27nga36KQki",
      "authorship_tag": "ABX9TyPR0d01T0USJB1awx3FeZ6m",
      "include_colab_link": true
    },
    "kernelspec": {
      "name": "python3",
      "display_name": "Python 3"
    },
    "language_info": {
      "name": "python"
    }
  },
  "cells": [
    {
      "cell_type": "markdown",
      "metadata": {
        "id": "view-in-github",
        "colab_type": "text"
      },
      "source": [
        "<a href=\"https://colab.research.google.com/github/rgnmenon/techbytedojo/blob/main/FileIO.ipynb\" target=\"_parent\"><img src=\"https://colab.research.google.com/assets/colab-badge.svg\" alt=\"Open In Colab\"/></a>"
      ]
    },
    {
      "cell_type": "code",
      "execution_count": 14,
      "metadata": {
        "colab": {
          "base_uri": "https://localhost:8080/"
        },
        "id": "xA18ckNn6LuO",
        "outputId": "b16c49a3-402d-49c0-8800-e3cc6976b9db"
      },
      "outputs": [
        {
          "output_type": "stream",
          "name": "stdout",
          "text": [
            "/content\n",
            "Line is: Hello\n",
            "\n",
            "Line is: World\n",
            "\n",
            "Line is: Third Line\n"
          ]
        }
      ],
      "source": [
        "# a file named \"sample.txt\", will be opened with the reading mode.#\n",
        "#create a file with  name sample .txt on the left file navigator\n",
        "#Hello Welcome to File handling\n",
        "#techbytedojo\n",
        "#\n",
        "\n",
        "import os\n",
        "cwd = os.getcwd()\n",
        "\n",
        "print(cwd)\n",
        "\n",
        "file = open('sample.txt', 'r')\n",
        "\n",
        "# This will print every line one by one in the file\n",
        "for txt in file:\n",
        "    print (f\"Line is: {txt}\")"
      ]
    },
    {
      "cell_type": "markdown",
      "source": [],
      "metadata": {
        "id": "T6OtLOTWyW_5"
      }
    },
    {
      "cell_type": "code",
      "source": [
        "from google.colab import drive\n",
        "drive.mount('/content/drive',force_remount=True)"
      ],
      "metadata": {
        "id": "pQan8zSqzTPD",
        "colab": {
          "base_uri": "https://localhost:8080/"
        },
        "outputId": "26779b19-68d1-406e-9d5f-88ba4c7ad6ad"
      },
      "execution_count": 33,
      "outputs": [
        {
          "output_type": "stream",
          "name": "stdout",
          "text": [
            "Mounted at /content/drive\n"
          ]
        }
      ]
    },
    {
      "cell_type": "code",
      "source": [
        "# code to illustrate read() mode - bulk read\n",
        "\n",
        "file = open(\"sample.txt\", \"r\")\n",
        "print (file.read())"
      ],
      "metadata": {
        "colab": {
          "base_uri": "https://localhost:8080/"
        },
        "id": "sNZOemiJ6e9X",
        "outputId": "5e408db0-b9db-4280-d8e1-213438ab1048"
      },
      "execution_count": 16,
      "outputs": [
        {
          "output_type": "stream",
          "name": "stdout",
          "text": [
            "Hello\n",
            "World\n",
            "Third Line\n"
          ]
        }
      ]
    },
    {
      "cell_type": "code",
      "source": [
        "#using the with satement\n",
        "\n",
        "with open(\"sample.txt\") as file:\n",
        "    data = file.read()\n",
        "\n",
        "\n",
        "print(data)\n",
        "\n",
        "#note this file does not exist  - creates it\n",
        "\n",
        "with open('dummy_file_no_exist', 'w') as file:\n",
        "    file.write('hello world !')"
      ],
      "metadata": {
        "colab": {
          "base_uri": "https://localhost:8080/"
        },
        "id": "7yBlRT2865Cq",
        "outputId": "e3b51125-3df3-4523-99b5-930d8e4793a1"
      },
      "execution_count": 18,
      "outputs": [
        {
          "output_type": "stream",
          "name": "stdout",
          "text": [
            "Hello\n",
            "World\n",
            "Third Line\n"
          ]
        }
      ]
    },
    {
      "cell_type": "code",
      "source": [
        "# file writing  handling\n",
        "\n",
        "# 1) without using with statement\n",
        "file = open('sample2.txt', 'w')\n",
        "file.write('hello @techbytedojo world !')\n",
        "file.close() # Good practice\n",
        "\n",
        "# 2) without using with statement\n",
        "file = open('sample2.txt', 'a')\n",
        "try:\n",
        "    file.write('\\nhello world')\n",
        "\n",
        "finally:\n",
        "\n",
        "    file.close() # even better"
      ],
      "metadata": {
        "id": "W6zMlDFR7Zw_"
      },
      "execution_count": 30,
      "outputs": []
    },
    {
      "cell_type": "code",
      "source": [
        "# Python code to illustrate read() mode character wise\n",
        "file = open(\"sampl🥥🧐😁👀e2.txt\", \"w\") #lets have some fun.\n",
        "# funky file name created.\n"
      ],
      "metadata": {
        "id": "BMersq1G8nZN"
      },
      "execution_count": 31,
      "outputs": []
    },
    {
      "cell_type": "code",
      "source": [
        "# Python code to illustrate read() mode character wise\n",
        "file = open(\"sample2.txt\", \"r\")\n",
        "print (file.read(5)) # prints hello when the file has hello world"
      ],
      "metadata": {
        "colab": {
          "base_uri": "https://localhost:8080/"
        },
        "id": "8x1pD9rN8JzN",
        "outputId": "7563ee83-2444-4c8c-a95c-d7ce39d67e3c"
      },
      "execution_count": 32,
      "outputs": [
        {
          "output_type": "stream",
          "name": "stdout",
          "text": [
            "hello\n"
          ]
        }
      ]
    }
  ]
}